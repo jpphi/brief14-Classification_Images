{
 "cells": [
  {
   "cell_type": "markdown",
   "id": "hispanic-uganda",
   "metadata": {},
   "source": [
    "# Déterminer quel est le fichier donnant les meilleurs résultats  \n",
    "\n",
    "* f\"animal_faces_{80}x{80}px_carre_{False}_ct_{False}.pkl\"\n",
    "* f\"animal_faces_{120}x{120}px_carre_{False}_ct_{False}.pkl\"\n",
    "* f\"animal_faces_{80}x{80}px_carre_{True}_ct_{False}.pkl\"\n",
    "* f\"animal_faces_{120}x{120}px_carre_{True}_ct_{False}.pkl\"\n",
    "* f\"animal_faces_{80}x{80}px_carre_{False}_ct_{True}.pkl\"\n",
    "* f\"animal_faces_{120}x{120}px_carre_{False}_ct_{True}.pkl\"\n",
    "* f\"animal_faces_{80}x{80}px_carre_{True}_ct_{True}.pkl\"\n",
    "* f\"animal_faces_{120}x{120}px_carre_{True}_ct_{True}.pkl\"\n"
   ]
  },
  {
   "cell_type": "code",
   "execution_count": 5,
   "id": "private-olympus",
   "metadata": {},
   "outputs": [],
   "source": [
    "import numpy as np\n",
    "import pandas as pds\n",
    "\n",
    "import joblib\n",
    "\n",
    "import skimage\n",
    "from skimage.io import imread\n",
    "from skimage.feature import hog\n",
    "from skimage.transform import rescale, resize\n",
    "from skimage import data, color\n",
    "\n",
    "from sklearn.linear_model import SGDClassifier\n",
    "from sklearn.preprocessing import StandardScaler, Normalizer\n",
    "from sklearn.metrics import confusion_matrix, classification_report\n",
    "from sklearn.pipeline import Pipeline\n",
    "from sklearn import svm\n",
    "from sklearn.model_selection import cross_val_predict, GridSearchCV, train_test_split\n",
    "from sklearn.base import BaseEstimator, TransformerMixin\n",
    "\n",
    "from mpl_toolkits.axes_grid1 import make_axes_locatable\n",
    "\n",
    "import matplotlib.pyplot as plt\n",
    "\n",
    "import os \n",
    "\n",
    "import random\n",
    "\n",
    "from collections import Counter\n"
   ]
  },
  {
   "cell_type": "code",
   "execution_count": 2,
   "id": "latest-insert",
   "metadata": {},
   "outputs": [],
   "source": [
    "\"\"\"\n",
    "On choisi l'un des fichiers générer plus haut.\n",
    "\n",
    "fichier= f\"animal_faces_{80}x{80}px_carre_{False}_ct_{False}.pkl\"\n",
    "fichier= f\"animal_faces_{120}x{120}px_carre_{False}_ct_{False}.pkl\"\n",
    "\n",
    "fichier= f\"animal_faces_{80}x{80}px_carre_{True}_ct_{False}.pkl\"\n",
    "fichier= f\"animal_faces_{120}x{120}px_carre_{True}_ct_{False}.pkl\"\n",
    "\n",
    "fichier= f\"animal_faces_{80}x{80}px_carre_{False}_ct_{True}.pkl\"\n",
    "fichier= f\"animal_faces_{120}x{120}px_carre_{False}_ct_{True}.pkl\"\n",
    "\n",
    "fichier= f\"animal_faces_{80}x{80}px_carre_{True}_ct_{True}.pkl\"\n",
    "fichier= f\"animal_faces_{120}x{120}px_carre_{True}_ct_{True}.pkl\"\n",
    "\n",
    "\"\"\"\n",
    "\n",
    "fichier= f\"animal_faces_{80}x{80}px_carre_{False}_ct_{False}.pkl\"\n",
    "\n",
    "data = joblib.load(fichier)\n",
    "\n",
    "# Problème de \"Natural\" libellé \"Nat\" à cause du \"[:-4]\" dans d_DATA['label'].append(el[:-4])\n",
    "for i,el in enumerate(data[\"label\"]):\n",
    "    if el== \"Nat\":\n",
    "        data[\"label\"][i]= \"Natural\"\n"
   ]
  },
  {
   "cell_type": "code",
   "execution_count": 3,
   "id": "dimensional-drawing",
   "metadata": {},
   "outputs": [],
   "source": [
    "X = np.array(data['data'])\n",
    "y = np.array(data['label'])\n",
    "\n",
    "X_train, X_test, y_train, y_test = train_test_split(\n",
    "    X, \n",
    "    y, \n",
    "    test_size=0.2, \n",
    "    shuffle=True,\n",
    "    random_state=42,\n",
    ")"
   ]
  },
  {
   "cell_type": "code",
   "execution_count": 4,
   "id": "material-clothing",
   "metadata": {},
   "outputs": [
    {
     "data": {
      "text/plain": [
       "\"\\n\\n{'classify': SVC(kernel='linear'),\\n 'hogify__cells_per_block': (3, 3),\\n 'hogify__orientations': 8,\\n 'hogify__pixels_per_cell': (8, 8)}\\n\""
      ]
     },
     "execution_count": 4,
     "metadata": {},
     "output_type": "execute_result"
    }
   ],
   "source": [
    "\"\"\"\n",
    "\n",
    "{'classify': SVC(kernel='linear'),\n",
    " 'hogify__cells_per_block': (3, 3),\n",
    " 'hogify__orientations': 8,\n",
    " 'hogify__pixels_per_cell': (8, 8)}\n",
    "\"\"\""
   ]
  },
  {
   "cell_type": "code",
   "execution_count": 6,
   "id": "adapted-configuration",
   "metadata": {},
   "outputs": [],
   "source": [
    "class RGB2GrayTransformer(BaseEstimator, TransformerMixin):\n",
    "    \"\"\"\n",
    "    Convert an array of RGB images to grayscale\n",
    "    \"\"\"\n",
    " \n",
    "    def __init__(self):\n",
    "        pass\n",
    " \n",
    "    def fit(self, X, y=None):\n",
    "        \"\"\"returns itself\"\"\"\n",
    "        return self\n",
    " \n",
    "    def transform(self, X, y=None):\n",
    "        \"\"\"perform the transformation and return an array\"\"\"\n",
    "        return np.array([skimage.color.rgb2gray(img) for img in X])\n",
    "     \n",
    " \n",
    "class HogTransformer(BaseEstimator, TransformerMixin):\n",
    "    \"\"\"\n",
    "    Expects an array of 2d arrays (1 channel images)\n",
    "    Calculates hog features for each img\n",
    "    \"\"\"\n",
    " \n",
    "    def __init__(self, y=None, orientations=9,\n",
    "                 pixels_per_cell=(8, 8),\n",
    "                 cells_per_block=(3, 3), block_norm='L2-Hys'):\n",
    "        self.y = y\n",
    "        self.orientations = orientations\n",
    "        self.pixels_per_cell = pixels_per_cell\n",
    "        self.cells_per_block = cells_per_block\n",
    "        self.block_norm = block_norm\n",
    " \n",
    "    def fit(self, X, y=None):\n",
    "        return self\n",
    " \n",
    "    def transform(self, X, y=None):\n",
    " \n",
    "        def local_hog(X):\n",
    "            return hog(X,\n",
    "                       orientations=self.orientations,\n",
    "                       pixels_per_cell=self.pixels_per_cell,\n",
    "                       cells_per_block=self.cells_per_block,\n",
    "                       block_norm=self.block_norm)\n",
    " \n",
    "        try: # parallel\n",
    "            return np.array([local_hog(img) for img in X])\n",
    "        except:\n",
    "            return np.array([local_hog(img) for img in X])"
   ]
  },
  {
   "cell_type": "code",
   "execution_count": 7,
   "id": "valued-diary",
   "metadata": {},
   "outputs": [
    {
     "name": "stdout",
     "output_type": "stream",
     "text": [
      "(1905, 3456)\n"
     ]
    }
   ],
   "source": [
    "# create an instance of each transformer\n",
    "grayify = RGB2GrayTransformer()\n",
    "hogify = HogTransformer(\n",
    "    pixels_per_cell=(8,8), \n",
    "    cells_per_block=(3,2), \n",
    "    orientations=8, \n",
    "    block_norm='L2-Hys'\n",
    ")\n",
    "scalify = StandardScaler()\n",
    " \n",
    "# call fit_transform on each transform converting X_train step by step\n",
    "X_train_gray = grayify.fit_transform(X_train)\n",
    "X_train_hog = hogify.fit_transform(X_train_gray)\n",
    "X_train_prepared = scalify.fit_transform(X_train_hog)\n",
    " \n",
    "print(X_train_prepared.shape)"
   ]
  },
  {
   "cell_type": "code",
   "execution_count": 9,
   "id": "powered-pizza",
   "metadata": {},
   "outputs": [
    {
     "data": {
      "text/plain": [
       "SVC(kernel='linear')"
      ]
     },
     "execution_count": 9,
     "metadata": {},
     "output_type": "execute_result"
    }
   ],
   "source": [
    "clf_SVC = svm.SVC(kernel='linear')\n",
    "clf_SVC.fit(X_train_prepared, y_train)"
   ]
  },
  {
   "cell_type": "code",
   "execution_count": 12,
   "id": "suited-dodge",
   "metadata": {},
   "outputs": [],
   "source": [
    "X_test_gray = grayify.transform(X_test)\n",
    "X_test_hog = hogify.transform(X_test_gray)\n",
    "X_test_prepared = scalify.transform(X_test_hog)"
   ]
  },
  {
   "cell_type": "code",
   "execution_count": 13,
   "id": "previous-bench",
   "metadata": {},
   "outputs": [
    {
     "name": "stdout",
     "output_type": "stream",
     "text": [
      "[False False  True  True False  True False  True  True  True  True  True\n",
      "  True False  True  True  True  True  True  True  True  True  True  True\n",
      "  True]\n",
      "\n",
      "Percentage correct:  79.45492662473795\n"
     ]
    }
   ],
   "source": [
    "y_pred = clf_SVC.predict(X_test_prepared)\n",
    "print(np.array(y_pred == y_test)[:25])\n",
    "\n",
    "print('\\nPercentage correct: ', 100*np.sum(y_pred == y_test)/len(y_test))"
   ]
  },
  {
   "cell_type": "code",
   "execution_count": null,
   "id": "australian-retention",
   "metadata": {},
   "outputs": [],
   "source": []
  },
  {
   "cell_type": "code",
   "execution_count": 14,
   "id": "automotive-incentive",
   "metadata": {},
   "outputs": [
    {
     "name": "stdout",
     "output_type": "stream",
     "text": [
      "              precision    recall  f1-score   support\n",
      "\n",
      "        Bear       0.76      0.76      0.76        21\n",
      "         Cat       0.79      0.91      0.85        34\n",
      "     Chicken       0.85      0.82      0.84        28\n",
      "         Cow       0.75      0.72      0.73        25\n",
      "        Deer       0.84      1.00      0.91        16\n",
      "         Dog       0.74      0.81      0.78        81\n",
      "        Duck       1.00      0.71      0.83        28\n",
      "       Eagle       0.85      0.89      0.87        19\n",
      "    Elephant       0.73      0.76      0.74        21\n",
      "       Human       1.00      0.93      0.96        14\n",
      "        Lion       0.58      0.85      0.69        13\n",
      "      Monkey       0.76      0.81      0.79        16\n",
      "       Mouse       0.78      0.74      0.76        19\n",
      "     Natural       0.00      0.00      0.00         2\n",
      "       Panda       0.90      0.86      0.88        22\n",
      "         Pig       0.53      0.47      0.50        17\n",
      "      Pigeon       0.83      0.88      0.86        17\n",
      "      Rabbit       0.71      0.71      0.71        17\n",
      "       Sheep       0.73      0.58      0.65        19\n",
      "       Tiger       0.89      0.89      0.89        18\n",
      "        Wolf       0.96      0.80      0.87        30\n",
      "\n",
      "    accuracy                           0.79       477\n",
      "   macro avg       0.76      0.76      0.76       477\n",
      "weighted avg       0.80      0.79      0.79       477\n",
      "\n"
     ]
    },
    {
     "name": "stderr",
     "output_type": "stream",
     "text": [
      "/home/jpphi/anaconda3/lib/python3.8/site-packages/sklearn/metrics/_classification.py:1245: UndefinedMetricWarning: Precision and F-score are ill-defined and being set to 0.0 in labels with no predicted samples. Use `zero_division` parameter to control this behavior.\n",
      "  _warn_prf(average, modifier, msg_start, len(result))\n",
      "/home/jpphi/anaconda3/lib/python3.8/site-packages/sklearn/metrics/_classification.py:1245: UndefinedMetricWarning: Precision and F-score are ill-defined and being set to 0.0 in labels with no predicted samples. Use `zero_division` parameter to control this behavior.\n",
      "  _warn_prf(average, modifier, msg_start, len(result))\n",
      "/home/jpphi/anaconda3/lib/python3.8/site-packages/sklearn/metrics/_classification.py:1245: UndefinedMetricWarning: Precision and F-score are ill-defined and being set to 0.0 in labels with no predicted samples. Use `zero_division` parameter to control this behavior.\n",
      "  _warn_prf(average, modifier, msg_start, len(result))\n"
     ]
    }
   ],
   "source": [
    "print(classification_report(y_test, y_pred, target_names= np.unique(y_test)))\n",
    "\n",
    "cmx = confusion_matrix(y_test, y_pred)"
   ]
  },
  {
   "cell_type": "code",
   "execution_count": null,
   "id": "final-mixture",
   "metadata": {},
   "outputs": [],
   "source": []
  },
  {
   "cell_type": "code",
   "execution_count": 15,
   "id": "executive-madonna",
   "metadata": {},
   "outputs": [
    {
     "name": "stdout",
     "output_type": "stream",
     "text": [
      "\n",
      " ['Bear', 'Cat', 'Chicken', 'Cow', 'Deer', 'Dog', 'Duck', 'Eagle', 'Elephant', 'Human', 'Lion', 'Monkey', 'Mouse', 'Natural', 'Panda', 'Pig', 'Pigeon', 'Rabbit', 'Sheep', 'Tiger', 'Wolf']\n"
     ]
    },
    {
     "data": {
      "image/png": "[encoded data removed]",
      "text/plain": [
       "<Figure size 2160x1440 with 6 Axes>"
      ]
     },
     "metadata": {
      "needs_background": "light"
     },
     "output_type": "display_data"
    }
   ],
   "source": [
    "def plot_confusion_matrix(cmx, vmax1=None, vmax2=None, vmax3=None):\n",
    "    cmx_norm = 100*cmx / cmx.sum(axis=1, keepdims=True)\n",
    "    cmx_zero_diag = cmx_norm.copy()\n",
    " \n",
    "    np.fill_diagonal(cmx_zero_diag, 0)\n",
    " \n",
    "    fig, ax = plt.subplots(nrows=3)\n",
    "    fig.set_size_inches(30, 20)\n",
    "    [a.set_xticks(range(len(cmx)+1)) for a in ax]\n",
    "    [a.set_yticks(range(len(cmx)+1)) for a in ax]\n",
    "    #for a in ax:print(a) # c'est quoi les valeur de a ????\n",
    "         \n",
    "    im1 = ax[0].imshow(cmx, vmax=vmax1)\n",
    "    ax[0].set_title('Valeur absolue.')\n",
    "    ax[0].set_xlabel(\"Classe\")\n",
    "    \n",
    "    im2 = ax[1].imshow(cmx_norm, vmax=vmax2)\n",
    "    ax[1].set_title('Valeur relative (%)')\n",
    "    \n",
    "    im3 = ax[2].imshow(cmx_zero_diag, vmax=vmax3)\n",
    "    ax[2].set_title('% and 0 diagonal')\n",
    " \n",
    "    dividers = [make_axes_locatable(a) for a in ax]\n",
    "    cax1, cax2, cax3 = [divider.append_axes(\"right\", size=\"5%\", pad=0.1) \n",
    "                        for divider in dividers]\n",
    " \n",
    "    fig.colorbar(im1, cax=cax1)\n",
    "    fig.colorbar(im2, cax=cax2)\n",
    "    fig.colorbar(im3, cax=cax3)\n",
    "    fig.tight_layout()\n",
    "     \n",
    "plot_confusion_matrix(cmx)\n",
    " \n",
    "# the types appear in this order\n",
    "print('\\n', sorted(np.unique(y_test)))"
   ]
  },
  {
   "cell_type": "code",
   "execution_count": null,
   "id": "upset-flush",
   "metadata": {},
   "outputs": [],
   "source": []
  },
  {
   "cell_type": "code",
   "execution_count": null,
   "id": "empirical-strip",
   "metadata": {},
   "outputs": [],
   "source": []
  },
  {
   "cell_type": "code",
   "execution_count": null,
   "id": "adjustable-season",
   "metadata": {},
   "outputs": [],
   "source": []
  },
  {
   "cell_type": "code",
   "execution_count": null,
   "id": "agricultural-nickel",
   "metadata": {},
   "outputs": [],
   "source": []
  },
  {
   "cell_type": "code",
   "execution_count": null,
   "id": "written-probe",
   "metadata": {},
   "outputs": [],
   "source": []
  },
  {
   "cell_type": "code",
   "execution_count": null,
   "id": "unavailable-prague",
   "metadata": {},
   "outputs": [],
   "source": []
  },
  {
   "cell_type": "code",
   "execution_count": null,
   "id": "other-module",
   "metadata": {},
   "outputs": [],
   "source": []
  }
 ],
 "metadata": {
  "kernelspec": {
   "display_name": "Python 3",
   "language": "python",
   "name": "python3"
  },
  "language_info": {
   "codemirror_mode": {
    "name": "ipython",
    "version": 3
   },
   "file_extension": ".py",
   "mimetype": "text/x-python",
   "name": "python",
   "nbconvert_exporter": "python",
   "pygments_lexer": "ipython3",
   "version": "3.8.8"
  }
 },
 "nbformat": 4,
 "nbformat_minor": 5
}
