{
 "cells": [
  {
   "cell_type": "code",
   "execution_count": 1,
   "id": "mexican-borough",
   "metadata": {},
   "outputs": [],
   "source": [
    "import pandas as pd \n",
    "import matplotlib.pyplot as plt \n",
    "import torch\n",
    "import torch.nn.functional as F\n",
    "import torchvision\n",
    "import torchvision.transforms as transforms\n",
    "\n",
    "from torch.utils.data import Dataset, DataLoader\n",
    "from sklearn.model_selection import train_test_split\n",
    "\n",
    "import os\n",
    "\n",
    "# %matplotlib inline"
   ]
  },
  {
   "cell_type": "markdown",
   "id": "dirty-research",
   "metadata": {},
   "source": [
    "* https://www.pluralsight.com/guides/image-classification-with-pytorch\n"
   ]
  },
  {
   "cell_type": "markdown",
   "id": "stupid-internet",
   "metadata": {},
   "source": [
    "## Définition des fonctions"
   ]
  },
  {
   "cell_type": "code",
   "execution_count": 2,
   "id": "through-information",
   "metadata": {
    "tags": []
   },
   "outputs": [],
   "source": [
    "import sys\n",
    "\n",
    "sys.path.append(\"../librairie\")\n",
    "\n",
    "import b17fonctions"
   ]
  },
  {
   "cell_type": "code",
   "execution_count": null,
   "id": "instrumental-society",
   "metadata": {},
   "outputs": [],
   "source": []
  },
  {
   "cell_type": "markdown",
   "id": "assisted-understanding",
   "metadata": {},
   "source": [
    "## Création de données"
   ]
  },
  {
   "cell_type": "code",
   "execution_count": 3,
   "id": "vital-workplace",
   "metadata": {},
   "outputs": [
    {
     "name": "stdout",
     "output_type": "stream",
     "text": [
      "Répertoires contenant les différents images:\n",
      "['PigHead', 'BearHead', 'WolfHead', 'Natural', 'RabbitHead', 'ChickenHead', 'PandaHead', 'HumanHead', 'PigeonHead', 'EagleHead', 'CatHead', 'TigerHead', 'SheepHead', 'ElephantHead', 'DeerHead', 'MouseHead', 'MonkeyHead', 'DogHead', 'CowHead', 'DuckHead', 'LionHead']\n"
     ]
    }
   ],
   "source": [
    "data_path = fr'{os.getenv(\"HOME\")}/Documents/brief/brief14-Classification_Images/data/AnimalFace/Image'\n",
    "l_rep= os.listdir(data_path) # Liste contenant le nom de tout les sous répertoires qui contiennent les images\n",
    "\n",
    "print(f\"Répertoires contenant les différents images:\\n{l_rep}\")"
   ]
  },
  {
   "cell_type": "code",
   "execution_count": 4,
   "id": "concerned-terrain",
   "metadata": {},
   "outputs": [
    {
     "name": "stdout",
     "output_type": "stream",
     "text": [
      "dog000590a.jpg n'est pas en rgb (hauteur, largeur, 3). shape= (150, 150)\n"
     ]
    }
   ],
   "source": [
    "# Pas de contraste, pas de mise en carré, taille 80 x 80\n",
    "\n",
    "#['BearHead','Natural'] # pour test\n",
    "\n",
    "largeur, hauteur= (80,80)\n",
    "d_DATA={'description': [],'label': [], 'filename': [],'data': []}\n",
    "\n",
    "# DÉCOMMENTER POUR GÉNÉRER LE FICHIER NE PAS OUBLIÈ DE FAIRE UN RESTART KERNEL À CHAQUE GÉNÉRATION DE FICHIER SINON CONCATÉNATION\n",
    "b17fonctions.creatpkl(d_DATA, data_path, l_rep, largeurimg= 80, hauteurimg= 80)"
   ]
  },
  {
   "cell_type": "code",
   "execution_count": null,
   "id": "frequent-prevention",
   "metadata": {},
   "outputs": [],
   "source": []
  }
 ],
 "metadata": {
  "kernelspec": {
   "display_name": "Python 3",
   "language": "python",
   "name": "python3"
  },
  "language_info": {
   "codemirror_mode": {
    "name": "ipython",
    "version": 3
   },
   "file_extension": ".py",
   "mimetype": "text/x-python",
   "name": "python",
   "nbconvert_exporter": "python",
   "pygments_lexer": "ipython3",
   "version": "3.8.8"
  }
 },
 "nbformat": 4,
 "nbformat_minor": 5
}
